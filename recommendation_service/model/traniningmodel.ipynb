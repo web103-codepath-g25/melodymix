{
 "cells": [
  {
   "cell_type": "code",
   "execution_count": 1,
   "id": "984dc31f-774d-4ac4-8e10-49318507c587",
   "metadata": {},
   "outputs": [],
   "source": [
    "import pandas as pd"
   ]
  },
  {
   "cell_type": "code",
   "execution_count": 2,
   "id": "5660433c-4d4d-4580-9c00-f39aa4ed179f",
   "metadata": {},
   "outputs": [],
   "source": [
    "df = pd.read_csv(\"spotify_millsongdata.csv\")"
   ]
  },
  {
   "cell_type": "code",
   "execution_count": 3,
   "id": "bc862404-4e6a-414c-9a97-78cdd4bb972b",
   "metadata": {},
   "outputs": [
    {
     "data": {
      "text/html": [
       "<div>\n",
       "<style scoped>\n",
       "    .dataframe tbody tr th:only-of-type {\n",
       "        vertical-align: middle;\n",
       "    }\n",
       "\n",
       "    .dataframe tbody tr th {\n",
       "        vertical-align: top;\n",
       "    }\n",
       "\n",
       "    .dataframe thead th {\n",
       "        text-align: right;\n",
       "    }\n",
       "</style>\n",
       "<table border=\"1\" class=\"dataframe\">\n",
       "  <thead>\n",
       "    <tr style=\"text-align: right;\">\n",
       "      <th></th>\n",
       "      <th>artist</th>\n",
       "      <th>song</th>\n",
       "      <th>link</th>\n",
       "      <th>text</th>\n",
       "    </tr>\n",
       "  </thead>\n",
       "  <tbody>\n",
       "    <tr>\n",
       "      <th>0</th>\n",
       "      <td>ABBA</td>\n",
       "      <td>Ahe's My Kind Of Girl</td>\n",
       "      <td>/a/abba/ahes+my+kind+of+girl_20598417.html</td>\n",
       "      <td>Look at her face, it's a wonderful face  \\r\\nA...</td>\n",
       "    </tr>\n",
       "    <tr>\n",
       "      <th>1</th>\n",
       "      <td>ABBA</td>\n",
       "      <td>Andante, Andante</td>\n",
       "      <td>/a/abba/andante+andante_20002708.html</td>\n",
       "      <td>Take it easy with me, please  \\r\\nTouch me gen...</td>\n",
       "    </tr>\n",
       "    <tr>\n",
       "      <th>2</th>\n",
       "      <td>ABBA</td>\n",
       "      <td>As Good As New</td>\n",
       "      <td>/a/abba/as+good+as+new_20003033.html</td>\n",
       "      <td>I'll never know why I had to go  \\r\\nWhy I had...</td>\n",
       "    </tr>\n",
       "    <tr>\n",
       "      <th>3</th>\n",
       "      <td>ABBA</td>\n",
       "      <td>Bang</td>\n",
       "      <td>/a/abba/bang_20598415.html</td>\n",
       "      <td>Making somebody happy is a question of give an...</td>\n",
       "    </tr>\n",
       "    <tr>\n",
       "      <th>4</th>\n",
       "      <td>ABBA</td>\n",
       "      <td>Bang-A-Boomerang</td>\n",
       "      <td>/a/abba/bang+a+boomerang_20002668.html</td>\n",
       "      <td>Making somebody happy is a question of give an...</td>\n",
       "    </tr>\n",
       "  </tbody>\n",
       "</table>\n",
       "</div>"
      ],
      "text/plain": [
       "  artist                   song                                        link  \\\n",
       "0   ABBA  Ahe's My Kind Of Girl  /a/abba/ahes+my+kind+of+girl_20598417.html   \n",
       "1   ABBA       Andante, Andante       /a/abba/andante+andante_20002708.html   \n",
       "2   ABBA         As Good As New        /a/abba/as+good+as+new_20003033.html   \n",
       "3   ABBA                   Bang                  /a/abba/bang_20598415.html   \n",
       "4   ABBA       Bang-A-Boomerang      /a/abba/bang+a+boomerang_20002668.html   \n",
       "\n",
       "                                                text  \n",
       "0  Look at her face, it's a wonderful face  \\r\\nA...  \n",
       "1  Take it easy with me, please  \\r\\nTouch me gen...  \n",
       "2  I'll never know why I had to go  \\r\\nWhy I had...  \n",
       "3  Making somebody happy is a question of give an...  \n",
       "4  Making somebody happy is a question of give an...  "
      ]
     },
     "execution_count": 3,
     "metadata": {},
     "output_type": "execute_result"
    }
   ],
   "source": [
    "df.head(5)"
   ]
  },
  {
   "cell_type": "code",
   "execution_count": 4,
   "id": "7a319e9c-e9ad-4362-9ace-2e9d58656ae3",
   "metadata": {},
   "outputs": [
    {
     "data": {
      "text/plain": [
       "artist    0\n",
       "song      0\n",
       "link      0\n",
       "text      0\n",
       "dtype: int64"
      ]
     },
     "execution_count": 4,
     "metadata": {},
     "output_type": "execute_result"
    }
   ],
   "source": [
    "df.isnull().sum()"
   ]
  },
  {
   "cell_type": "code",
   "execution_count": 5,
   "id": "674cc58b-b289-43d6-8abd-6a69a93d36d2",
   "metadata": {},
   "outputs": [],
   "source": [
    "df = df.sample(40000).drop('link', axis=1).reset_index(drop=True)"
   ]
  },
  {
   "cell_type": "code",
   "execution_count": 6,
   "id": "e78f5b27-8f07-48b9-8320-a4ed6481bde2",
   "metadata": {},
   "outputs": [
    {
     "data": {
      "text/html": [
       "<div>\n",
       "<style scoped>\n",
       "    .dataframe tbody tr th:only-of-type {\n",
       "        vertical-align: middle;\n",
       "    }\n",
       "\n",
       "    .dataframe tbody tr th {\n",
       "        vertical-align: top;\n",
       "    }\n",
       "\n",
       "    .dataframe thead th {\n",
       "        text-align: right;\n",
       "    }\n",
       "</style>\n",
       "<table border=\"1\" class=\"dataframe\">\n",
       "  <thead>\n",
       "    <tr style=\"text-align: right;\">\n",
       "      <th></th>\n",
       "      <th>artist</th>\n",
       "      <th>song</th>\n",
       "      <th>text</th>\n",
       "    </tr>\n",
       "  </thead>\n",
       "  <tbody>\n",
       "    <tr>\n",
       "      <th>0</th>\n",
       "      <td>Modern Talking</td>\n",
       "      <td>Superstar</td>\n",
       "      <td>I have the feeling, that you are the one  \\r\\n...</td>\n",
       "    </tr>\n",
       "    <tr>\n",
       "      <th>1</th>\n",
       "      <td>Red Hot Chili Peppers</td>\n",
       "      <td>Right On Time</td>\n",
       "      <td>One shot all I need  \\r\\nI've got rhythm when ...</td>\n",
       "    </tr>\n",
       "    <tr>\n",
       "      <th>2</th>\n",
       "      <td>Regine Velasquez</td>\n",
       "      <td>Sa Ugoy Ng Duyan</td>\n",
       "      <td>I.  \\r\\nSana'y di magmaliw ang dati kong araw ...</td>\n",
       "    </tr>\n",
       "    <tr>\n",
       "      <th>3</th>\n",
       "      <td>Miley Cyrus</td>\n",
       "      <td>Twinkle Song</td>\n",
       "      <td>[Verse 1]  \\r\\nI had a dream  \\r\\nDavie Bowie ...</td>\n",
       "    </tr>\n",
       "    <tr>\n",
       "      <th>4</th>\n",
       "      <td>Weird Al Yankovic</td>\n",
       "      <td>Another One Rides The Bus</td>\n",
       "      <td>Riding in the bus down the boulevard  \\r\\nAnd ...</td>\n",
       "    </tr>\n",
       "    <tr>\n",
       "      <th>5</th>\n",
       "      <td>R. Kelly</td>\n",
       "      <td>Lost In Your Love</td>\n",
       "      <td>I wanna bring love, back to the radio,  \\r\\nCa...</td>\n",
       "    </tr>\n",
       "    <tr>\n",
       "      <th>6</th>\n",
       "      <td>Ellie Goulding</td>\n",
       "      <td>Devotion</td>\n",
       "      <td>[Verse 1]  \\r\\nOpen up and let me in  \\r\\nShow...</td>\n",
       "    </tr>\n",
       "    <tr>\n",
       "      <th>7</th>\n",
       "      <td>Vybz Kartel</td>\n",
       "      <td>Love Of Money</td>\n",
       "      <td>Sorry honey, I'm in love with money  \\r\\nYou s...</td>\n",
       "    </tr>\n",
       "    <tr>\n",
       "      <th>8</th>\n",
       "      <td>Hank Snow</td>\n",
       "      <td>If It's Wrong To Love You</td>\n",
       "      <td>Written by Bonnie Dodd - Charles Mitchell  \\r\\...</td>\n",
       "    </tr>\n",
       "    <tr>\n",
       "      <th>9</th>\n",
       "      <td>Whitesnake</td>\n",
       "      <td>Come On</td>\n",
       "      <td>I don't go looking for trouble,  \\r\\nIt's alwa...</td>\n",
       "    </tr>\n",
       "  </tbody>\n",
       "</table>\n",
       "</div>"
      ],
      "text/plain": [
       "                  artist                       song  \\\n",
       "0         Modern Talking                  Superstar   \n",
       "1  Red Hot Chili Peppers              Right On Time   \n",
       "2       Regine Velasquez           Sa Ugoy Ng Duyan   \n",
       "3            Miley Cyrus               Twinkle Song   \n",
       "4      Weird Al Yankovic  Another One Rides The Bus   \n",
       "5               R. Kelly          Lost In Your Love   \n",
       "6         Ellie Goulding                   Devotion   \n",
       "7            Vybz Kartel              Love Of Money   \n",
       "8              Hank Snow  If It's Wrong To Love You   \n",
       "9             Whitesnake                    Come On   \n",
       "\n",
       "                                                text  \n",
       "0  I have the feeling, that you are the one  \\r\\n...  \n",
       "1  One shot all I need  \\r\\nI've got rhythm when ...  \n",
       "2  I.  \\r\\nSana'y di magmaliw ang dati kong araw ...  \n",
       "3  [Verse 1]  \\r\\nI had a dream  \\r\\nDavie Bowie ...  \n",
       "4  Riding in the bus down the boulevard  \\r\\nAnd ...  \n",
       "5  I wanna bring love, back to the radio,  \\r\\nCa...  \n",
       "6  [Verse 1]  \\r\\nOpen up and let me in  \\r\\nShow...  \n",
       "7  Sorry honey, I'm in love with money  \\r\\nYou s...  \n",
       "8  Written by Bonnie Dodd - Charles Mitchell  \\r\\...  \n",
       "9  I don't go looking for trouble,  \\r\\nIt's alwa...  "
      ]
     },
     "execution_count": 6,
     "metadata": {},
     "output_type": "execute_result"
    }
   ],
   "source": [
    "df.head(10)"
   ]
  },
  {
   "cell_type": "code",
   "execution_count": 7,
   "id": "c2f8a6db-90a2-438d-accd-5c3f8309cf5d",
   "metadata": {},
   "outputs": [
    {
     "data": {
      "text/plain": [
       "\"I have the feeling, that you are the one  \\r\\nYou're really special, you can't go wrong  \\r\\nYou have to work, but you reach your aim  \\r\\nI see your power, try it again  \\r\\nIt's such a long way, you know it all  \\r\\nI know the eyes of the winner  \\r\\nYou will stand up, if you will fall  \\r\\nYou are the greatest singer  \\r\\n  \\r\\nYou are my hero, my superstar from zero  \\r\\nYou are to me a superstar tonight  \\r\\nYou are a winner, you'll never be sinner  \\r\\nOh baby you will always do it right  \\r\\n  \\r\\nOh you're to me - a superstar  \\r\\nNo matter if your dream is far  \\r\\nOh you're to me a hero now  \\r\\nYou reach the top, just anyhow  \\r\\n  \\r\\nYou connot win, if you don't take this chance  \\r\\nI swear you'll fell, it's like a romance  \\r\\nSometimes it's hard, but please don't give up  \\r\\nIt's not so easy climb to the top  \\r\\nI tell you only the strong will survive  \\r\\nOh you are playing with fire  \\r\\nIt is the gear test chance of your life  \\r\\nSo you feel the desire?  \\r\\n  \\r\\nYou are my hero, my superstar from zero  \\r\\nYou are to me a superstar tonight  \\r\\nYou are a winner, you'll never be sinner  \\r\\nOh baby you will always do it right  \\r\\n  \\r\\nOh you're to me - a superstar  \\r\\nNo matter if your dream is far  \\r\\nOh you're to me a hero now  \\r\\nYou reach the top, just anyhow  \\r\\n  \\r\\nYou are my hero, my superstar from zero  \\r\\nYou are to me a superstar tonight  \\r\\n  \\r\\nYou are my hero, my superstar from zero  \\r\\nYou are to me a superstar tonight  \\r\\nYou are a winner, you'll never be sinner  \\r\\nOh baby you will always do it right  \\r\\n  \\r\\nOh you're to me - a superstar  \\r\\nNo matter if your dream is far  \\r\\nOh you're to me a hero now  \\r\\nYou reach the top, just anyhow\\r\\n\\r\\n\""
      ]
     },
     "execution_count": 7,
     "metadata": {},
     "output_type": "execute_result"
    }
   ],
   "source": [
    "df['text'][0]"
   ]
  },
  {
   "cell_type": "code",
   "execution_count": 8,
   "id": "4dced07d-9e63-4a16-a254-931784ddf528",
   "metadata": {},
   "outputs": [
    {
     "data": {
      "text/plain": [
       "(40000, 3)"
      ]
     },
     "execution_count": 8,
     "metadata": {},
     "output_type": "execute_result"
    }
   ],
   "source": [
    "df.shape"
   ]
  },
  {
   "cell_type": "markdown",
   "id": "1e850757-feb6-49df-9399-8b89500efecb",
   "metadata": {},
   "source": [
    "TEXT CLEANING / TEXT PREPROCESSING"
   ]
  },
  {
   "cell_type": "code",
   "execution_count": 9,
   "id": "039397e6-0cfb-4838-a675-b7bb9cfbd154",
   "metadata": {},
   "outputs": [],
   "source": [
    "df['text']=df['text'].str.lower().replace(r'^\\w\\s', ' ').replace(r'\\n', ' ', regex=True)"
   ]
  },
  {
   "cell_type": "code",
   "execution_count": 10,
   "id": "cda04454-8f2f-4f10-98c1-bf2104ddf61f",
   "metadata": {},
   "outputs": [
    {
     "data": {
      "text/html": [
       "<div>\n",
       "<style scoped>\n",
       "    .dataframe tbody tr th:only-of-type {\n",
       "        vertical-align: middle;\n",
       "    }\n",
       "\n",
       "    .dataframe tbody tr th {\n",
       "        vertical-align: top;\n",
       "    }\n",
       "\n",
       "    .dataframe thead th {\n",
       "        text-align: right;\n",
       "    }\n",
       "</style>\n",
       "<table border=\"1\" class=\"dataframe\">\n",
       "  <thead>\n",
       "    <tr style=\"text-align: right;\">\n",
       "      <th></th>\n",
       "      <th>artist</th>\n",
       "      <th>song</th>\n",
       "      <th>text</th>\n",
       "    </tr>\n",
       "  </thead>\n",
       "  <tbody>\n",
       "    <tr>\n",
       "      <th>39995</th>\n",
       "      <td>Yonder Mountain String Band</td>\n",
       "      <td>To See You Coming 'round The Bend</td>\n",
       "      <td>to see you coming 'round the bend  \\r i just c...</td>\n",
       "    </tr>\n",
       "    <tr>\n",
       "      <th>39996</th>\n",
       "      <td>Ozzy Osbourne</td>\n",
       "      <td>Back On Earth</td>\n",
       "      <td>i have fallen from grace, and my ashes are sca...</td>\n",
       "    </tr>\n",
       "    <tr>\n",
       "      <th>39997</th>\n",
       "      <td>Erik Santos</td>\n",
       "      <td>Bakit Ba Iniibig Ka (Ft. Regine Velasquez)</td>\n",
       "      <td>e: ang sabi mo sa akin tayong dalawa'y magmama...</td>\n",
       "    </tr>\n",
       "    <tr>\n",
       "      <th>39998</th>\n",
       "      <td>Independence Day</td>\n",
       "      <td>God Bless The USA</td>\n",
       "      <td>if tomorrow all the things were gone,  \\r i'd ...</td>\n",
       "    </tr>\n",
       "    <tr>\n",
       "      <th>39999</th>\n",
       "      <td>Keith Urban</td>\n",
       "      <td>If You Wanna Stay</td>\n",
       "      <td>go if you wanna go, stay if you wanna stay  \\r...</td>\n",
       "    </tr>\n",
       "  </tbody>\n",
       "</table>\n",
       "</div>"
      ],
      "text/plain": [
       "                            artist  \\\n",
       "39995  Yonder Mountain String Band   \n",
       "39996                Ozzy Osbourne   \n",
       "39997                  Erik Santos   \n",
       "39998             Independence Day   \n",
       "39999                  Keith Urban   \n",
       "\n",
       "                                             song  \\\n",
       "39995           To See You Coming 'round The Bend   \n",
       "39996                               Back On Earth   \n",
       "39997  Bakit Ba Iniibig Ka (Ft. Regine Velasquez)   \n",
       "39998                           God Bless The USA   \n",
       "39999                           If You Wanna Stay   \n",
       "\n",
       "                                                    text  \n",
       "39995  to see you coming 'round the bend  \\r i just c...  \n",
       "39996  i have fallen from grace, and my ashes are sca...  \n",
       "39997  e: ang sabi mo sa akin tayong dalawa'y magmama...  \n",
       "39998  if tomorrow all the things were gone,  \\r i'd ...  \n",
       "39999  go if you wanna go, stay if you wanna stay  \\r...  "
      ]
     },
     "execution_count": 10,
     "metadata": {},
     "output_type": "execute_result"
    }
   ],
   "source": [
    "df.tail(5)"
   ]
  },
  {
   "cell_type": "code",
   "execution_count": 11,
   "id": "0174f2eb-9c62-48a9-9e44-ad34257b9d59",
   "metadata": {},
   "outputs": [],
   "source": [
    "import nltk \n",
    "from nltk.stem.porter import PorterStemmer"
   ]
  },
  {
   "cell_type": "code",
   "execution_count": 12,
   "id": "e0046fc9-8b44-432a-b6e5-2b6c644608ec",
   "metadata": {},
   "outputs": [],
   "source": [
    "stemmer = PorterStemmer()"
   ]
  },
  {
   "cell_type": "code",
   "execution_count": 13,
   "id": "c269e798-0062-46dc-a58b-65608bb65e19",
   "metadata": {},
   "outputs": [],
   "source": [
    "def token(txt):\n",
    "    token = nltk.word_tokenize(txt)\n",
    "    a =[stemmer.stem(w) for w in token]\n",
    "    return \" \".join(a)"
   ]
  },
  {
   "cell_type": "code",
   "execution_count": 14,
   "id": "d7b25aa2-98b8-4519-b418-47ad65ffca97",
   "metadata": {},
   "outputs": [
    {
     "data": {
      "text/plain": [
       "'you are beauti , beati'"
      ]
     },
     "execution_count": 14,
     "metadata": {},
     "output_type": "execute_result"
    }
   ],
   "source": [
    "token(\"you are beautiful, beati\")"
   ]
  },
  {
   "cell_type": "code",
   "execution_count": 15,
   "id": "ca383e25-c7bd-4427-a9da-0c52c195f241",
   "metadata": {},
   "outputs": [
    {
     "data": {
      "text/plain": [
       "0        i have the feel , that you are the one you 're...\n",
       "1        one shot all i need i 've got rhythm when i bl...\n",
       "2        i. sana ' y di magmaliw ang dati kong araw nan...\n",
       "3        [ vers 1 ] i had a dream davi bowi taught us h...\n",
       "4        ride in the bu down the boulevard and the plac...\n",
       "                               ...                        \n",
       "39995    to see you come 'round the bend i just ca n't ...\n",
       "39996    i have fallen from grace , and my ash are scat...\n",
       "39997    e : ang sabi mo sa akin tayong dalawa ' y magm...\n",
       "39998    if tomorrow all the thing were gone , i 'd wor...\n",
       "39999    go if you wan na go , stay if you wan na stay ...\n",
       "Name: text, Length: 40000, dtype: object"
      ]
     },
     "execution_count": 15,
     "metadata": {},
     "output_type": "execute_result"
    }
   ],
   "source": [
    "df['text'].apply(lambda x: token(x))"
   ]
  },
  {
   "cell_type": "code",
   "execution_count": 16,
   "id": "995b3413-24b2-48af-83a6-e36f44be41cb",
   "metadata": {},
   "outputs": [],
   "source": [
    "from sklearn.feature_extraction.text import TfidfVectorizer"
   ]
  },
  {
   "cell_type": "code",
   "execution_count": 17,
   "id": "7d8e3482-7ed4-4a26-9a22-fb2a57494486",
   "metadata": {},
   "outputs": [],
   "source": [
    "from sklearn.metrics.pairwise import cosine_similarity"
   ]
  },
  {
   "cell_type": "code",
   "execution_count": 18,
   "id": "71eabdda-1e0d-44d2-8d9c-d03a820b1014",
   "metadata": {},
   "outputs": [],
   "source": [
    "tfid = TfidfVectorizer(analyzer='word', stop_words='english')"
   ]
  },
  {
   "cell_type": "code",
   "execution_count": 19,
   "id": "b3ff72e3-5114-4aa2-9c35-8ea671a1e1e6",
   "metadata": {},
   "outputs": [],
   "source": [
    "matrix = tfid.fit_transform(df['text'])"
   ]
  },
  {
   "cell_type": "code",
   "execution_count": 20,
   "id": "6929c7b9-24c7-4b4f-a89e-d05adb4a4b8c",
   "metadata": {},
   "outputs": [],
   "source": [
    "similar = cosine_similarity(matrix)"
   ]
  },
  {
   "cell_type": "code",
   "execution_count": 21,
   "id": "1a425145-b990-4eed-9efd-9c8827425d58",
   "metadata": {},
   "outputs": [
    {
     "data": {
      "text/plain": [
       "array([1.        , 0.0306999 , 0.        , ..., 0.        , 0.01694336,\n",
       "       0.02472191])"
      ]
     },
     "execution_count": 21,
     "metadata": {},
     "output_type": "execute_result"
    }
   ],
   "source": [
    "similar[0]"
   ]
  },
  {
   "cell_type": "code",
   "execution_count": 23,
   "id": "df96494b-cc6e-4c7e-8c21-b7d3850f9c25",
   "metadata": {},
   "outputs": [
    {
     "data": {
      "text/plain": [
       "39996"
      ]
     },
     "execution_count": 23,
     "metadata": {},
     "output_type": "execute_result"
    }
   ],
   "source": [
    "df[df['song']=='Back On Earth'].index[0]"
   ]
  },
  {
   "cell_type": "markdown",
   "id": "ce928ba0-3d8e-4348-adb7-bcac1b2bbb21",
   "metadata": {},
   "source": [
    "RECOMMENDER FUNCTION"
   ]
  },
  {
   "cell_type": "code",
   "execution_count": 24,
   "id": "8cbc153c-85e6-47db-8a1f-beaa033b310d",
   "metadata": {},
   "outputs": [],
   "source": [
    "def recommender(song_name):\n",
    "    idx = df[df['song']==song_name].index[0]\n",
    "    distance = sorted(list(enumerate(similar[idx])), reverse=True, key = lambda x:x[1])\n",
    "    song = []\n",
    "    for s_id in distance[1:20]:\n",
    "        song.append(df.iloc[s_id[0]].song)\n",
    "    return song\n",
    "    "
   ]
  },
  {
   "cell_type": "code",
   "execution_count": 25,
   "id": "6aa864f5-ad73-460c-bf2d-4b6b812b9498",
   "metadata": {},
   "outputs": [
    {
     "data": {
      "text/plain": [
       "['It Must Be Love',\n",
       " 'Good Friend',\n",
       " 'National Health',\n",
       " 'Sing Together',\n",
       " 'Midnight Blue',\n",
       " 'Not Of This Earth',\n",
       " 'See Me Now',\n",
       " 'Dark Fantasy',\n",
       " 'Love Song',\n",
       " 'In The End',\n",
       " \"Thanx 4 Nothin'\",\n",
       " 'Better',\n",
       " 'Bells Of Christmas',\n",
       " 'Here Comes The Hammer',\n",
       " 'All About You',\n",
       " 'Down To Earth',\n",
       " 'Tightrope',\n",
       " \"If I Can't Have You\",\n",
       " 'Million Dollar Bill']"
      ]
     },
     "execution_count": 25,
     "metadata": {},
     "output_type": "execute_result"
    }
   ],
   "source": [
    "recommender(\"Back On Earth\")"
   ]
  },
  {
   "cell_type": "code",
   "execution_count": 27,
   "id": "6be17eab-a5a5-4c82-b9fa-2f67a44ea9df",
   "metadata": {},
   "outputs": [],
   "source": [
    "import pickle"
   ]
  },
  {
   "cell_type": "code",
   "execution_count": 29,
   "id": "57e0997f-73e3-41ce-8b67-c034b20aa705",
   "metadata": {},
   "outputs": [],
   "source": [
    "pickle.dump(similar, open(\"similarity\", \"wb\"))"
   ]
  },
  {
   "cell_type": "code",
   "execution_count": 1,
   "id": "f853d582-fcbb-48e2-a4c5-7f2c71bb9d6f",
   "metadata": {},
   "outputs": [
    {
     "ename": "NameError",
     "evalue": "name 'pickle' is not defined",
     "output_type": "error",
     "traceback": [
      "\u001b[0;31m---------------------------------------------------------------------------\u001b[0m",
      "\u001b[0;31mNameError\u001b[0m                                 Traceback (most recent call last)",
      "Cell \u001b[0;32mIn[1], line 1\u001b[0m\n\u001b[0;32m----> 1\u001b[0m \u001b[43mpickle\u001b[49m\u001b[38;5;241m.\u001b[39mdump(df, \u001b[38;5;28mopen\u001b[39m(\u001b[38;5;124m\"\u001b[39m\u001b[38;5;124mdf\u001b[39m\u001b[38;5;124m\"\u001b[39m, \u001b[38;5;124m\"\u001b[39m\u001b[38;5;124mwb\u001b[39m\u001b[38;5;124m\"\u001b[39m))\n",
      "\u001b[0;31mNameError\u001b[0m: name 'pickle' is not defined"
     ]
    }
   ],
   "source": [
    "pickle.dump(df, open(\"df\", \"wb\"))"
   ]
  },
  {
   "cell_type": "code",
   "execution_count": 2,
   "id": "a7870caa-0536-47e9-98ec-4eb8b6c2b976",
   "metadata": {},
   "outputs": [
    {
     "ename": "NameError",
     "evalue": "name 'recommender' is not defined",
     "output_type": "error",
     "traceback": [
      "\u001b[0;31m---------------------------------------------------------------------------\u001b[0m",
      "\u001b[0;31mNameError\u001b[0m                                 Traceback (most recent call last)",
      "Cell \u001b[0;32mIn[2], line 1\u001b[0m\n\u001b[0;32m----> 1\u001b[0m \u001b[43mrecommender\u001b[49m(\u001b[38;5;124m\"\u001b[39m\u001b[38;5;124mBack On Earth\u001b[39m\u001b[38;5;124m\"\u001b[39m)\n",
      "\u001b[0;31mNameError\u001b[0m: name 'recommender' is not defined"
     ]
    }
   ],
   "source": [
    "recommender(\"Back On Earth\")"
   ]
  },
  {
   "cell_type": "code",
   "execution_count": null,
   "id": "293b3bc8-8abf-4e57-a79d-4013650031cb",
   "metadata": {},
   "outputs": [],
   "source": []
  }
 ],
 "metadata": {
  "kernelspec": {
   "display_name": "Python 3 (ipykernel)",
   "language": "python",
   "name": "python3"
  },
  "language_info": {
   "codemirror_mode": {
    "name": "ipython",
    "version": 3
   },
   "file_extension": ".py",
   "mimetype": "text/x-python",
   "name": "python",
   "nbconvert_exporter": "python",
   "pygments_lexer": "ipython3",
   "version": "3.10.13"
  }
 },
 "nbformat": 4,
 "nbformat_minor": 5
}
